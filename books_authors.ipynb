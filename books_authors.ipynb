{
  "nbformat": 4,
  "nbformat_minor": 0,
  "metadata": {
    "colab": {
      "provenance": [],
      "authorship_tag": "ABX9TyMgKgPqW1mtNHWYhaSyZMrU",
      "include_colab_link": true
    },
    "kernelspec": {
      "name": "python3",
      "display_name": "Python 3"
    },
    "language_info": {
      "name": "python"
    }
  },
  "cells": [
    {
      "cell_type": "markdown",
      "metadata": {
        "id": "view-in-github",
        "colab_type": "text"
      },
      "source": [
        "<a href=\"https://colab.research.google.com/github/denskoy/dolzhenkov_task/blob/main/books_authors.ipynb\" target=\"_parent\"><img src=\"https://colab.research.google.com/assets/colab-badge.svg\" alt=\"Open In Colab\"/></a>"
      ]
    },
    {
      "cell_type": "code",
      "execution_count": 1,
      "metadata": {
        "colab": {
          "base_uri": "https://localhost:8080/"
        },
        "id": "vmOwq_7peMvJ",
        "outputId": "789d0b33-b33f-4f7d-ed63-c58f3f09207e"
      },
      "outputs": [
        {
          "output_type": "stream",
          "name": "stdout",
          "text": [
            "Collecting pyspark\n",
            "  Downloading pyspark-3.5.2.tar.gz (317.3 MB)\n",
            "\u001b[2K     \u001b[90m━━━━━━━━━━━━━━━━━━━━━━━━━━━━━━━━━━━━━━━━\u001b[0m \u001b[32m317.3/317.3 MB\u001b[0m \u001b[31m4.7 MB/s\u001b[0m eta \u001b[36m0:00:00\u001b[0m\n",
            "\u001b[?25h  Preparing metadata (setup.py) ... \u001b[?25l\u001b[?25hdone\n",
            "Requirement already satisfied: py4j==0.10.9.7 in /usr/local/lib/python3.10/dist-packages (from pyspark) (0.10.9.7)\n",
            "Building wheels for collected packages: pyspark\n",
            "  Building wheel for pyspark (setup.py) ... \u001b[?25l\u001b[?25hdone\n",
            "  Created wheel for pyspark: filename=pyspark-3.5.2-py2.py3-none-any.whl size=317812365 sha256=59c9a3c0b3038c3fc00da218f8698484e9657c0a07b614077d76c6489eb9fcb6\n",
            "  Stored in directory: /root/.cache/pip/wheels/34/34/bd/03944534c44b677cd5859f248090daa9fb27b3c8f8e5f49574\n",
            "Successfully built pyspark\n",
            "Installing collected packages: pyspark\n",
            "Successfully installed pyspark-3.5.2\n"
          ]
        }
      ],
      "source": [
        "pip install pyspark"
      ]
    },
    {
      "cell_type": "code",
      "source": [
        "from pyspark.sql import SparkSession\n",
        "from pyspark.sql.types import StructType, StructField, StringType, DateType, FloatType, IntegerType\n",
        "from pyspark.sql.functions import col, to_date, sum, avg, month, year, desc, count\n",
        "spark = SparkSession.builder \\\n",
        "        .appName(\"book_shop\") \\\n",
        "        .getOrCreate()\n",
        "\n",
        "schema_book = StructType([\n",
        "    StructField(\"book_id\", IntegerType(), True),\n",
        "    StructField(\"title\", StringType(), True),\n",
        "    StructField(\"author_id\", IntegerType(), True),\n",
        "    StructField(\"genres\", StringType(), True),\n",
        "    StructField(\"price\", FloatType(), True),\n",
        "    StructField(\"publish_date\", DateType(), True)\n",
        "])\n",
        "schema_author = StructType([\n",
        "    StructField(\"author_id\", IntegerType(), True),\n",
        "    StructField(\"name\", StringType(), True),\n",
        "    StructField(\"birth_date\", DateType(), True),\n",
        "    StructField(\"country\", StringType(), True)\n",
        "])\n",
        "\n",
        "df_books = spark.read.csv(\"/content/books.csv\", header=True, schema=schema_book, sep=\",\")\n",
        "df_authors = spark.read.csv(\"/content/authors.csv\", header=True, schema=schema_author, sep=\",\")\n",
        "\n",
        "#Объединение таблиц\n",
        "books_authors_df = df_books.join(df_authors, on=\"author_id\", how=\"inner\")\n",
        "books_authors_df.show()\n",
        "#Топ-5 авторов, книги которых принесли наибольшую выручку\n",
        "top_5_authors = books_authors_df.groupBy(\"author_id\",\"name\").agg(sum(\"price\").alias(\"total\")).orderBy(desc(\"total\"))\n",
        "#Количество книг в каждом жанре\n",
        "genre_count = books_authors_df.groupBy(\"genres\").count().orderBy(desc(\"count\"))\n",
        "#Cредняя цена книг по каждому автору\n",
        "avg_book = books_authors_df.groupBy(\"author_id\",\"name\").avg(\"price\").orderBy(desc(\"avg(price)\"))\n",
        "#книги, опубликованные после 2000 года\n",
        "books_2000th = books_authors_df.where(\"publish_date >= '2000-01-01'\").orderBy(desc(\"price\"))\n",
        "top_5_authors.show(5)\n",
        "genre_count.show()\n",
        "avg_book.show()\n",
        "books_2000th.show()"
      ],
      "metadata": {
        "colab": {
          "base_uri": "https://localhost:8080/"
        },
        "id": "i3JpcpfFe8L0",
        "outputId": "ef997732-ded6-41b9-a356-a64dbe28e537"
      },
      "execution_count": 42,
      "outputs": [
        {
          "output_type": "stream",
          "name": "stdout",
          "text": [
            "+---------+-------+-------+-----------+-----+------------+---------+----------+---------+\n",
            "|author_id|book_id|  title|     genres|price|publish_date|     name|birth_date|  country|\n",
            "+---------+-------+-------+-----------+-----+------------+---------+----------+---------+\n",
            "|        2|      1| Book_1|    Mystery|73.57|  1980-12-31| Author_2|1965-12-31|   Canada|\n",
            "|        1|      2| Book_2|Non-Fiction| 41.1|  1982-12-31| Author_1|1960-12-31|    India|\n",
            "|       10|      3| Book_3|    Fiction|10.63|  1984-12-31|Author_10|2005-12-31|    India|\n",
            "|        9|      4| Book_4|Non-Fiction|46.31|  1986-12-31| Author_9|2000-12-31|Australia|\n",
            "|        7|      5| Book_5|    Science|31.13|  1988-12-31| Author_7|1990-12-31|      USA|\n",
            "|        4|      6| Book_6|Non-Fiction| 83.7|  1990-12-31| Author_4|1975-12-31|       UK|\n",
            "|        6|      7| Book_7|Non-Fiction|40.36|  1992-12-31| Author_6|1985-12-31|      USA|\n",
            "|        2|      8| Book_8|Non-Fiction|84.48|  1994-12-31| Author_2|1965-12-31|   Canada|\n",
            "|        7|      9| Book_9|    Fantasy|10.05|  1996-12-31| Author_7|1990-12-31|      USA|\n",
            "|        2|     10|Book_10|    Science| 37.7|  1998-12-31| Author_2|1965-12-31|   Canada|\n",
            "|       10|     11|Book_11|Non-Fiction| 31.7|  2000-12-31|Author_10|2005-12-31|    India|\n",
            "|        8|     12|Book_12|Non-Fiction|31.02|  2002-12-31| Author_8|1995-12-31|Australia|\n",
            "|        8|     13|Book_13|Non-Fiction|16.14|  2004-12-31| Author_8|1995-12-31|Australia|\n",
            "|        1|     14|Book_14|    Fiction|26.84|  2006-12-31| Author_1|1960-12-31|    India|\n",
            "|        8|     15|Book_15|    Fantasy| 60.0|  2008-12-31| Author_8|1995-12-31|Australia|\n",
            "|        2|     16|Book_16|    Fiction|36.22|  2010-12-31| Author_2|1965-12-31|   Canada|\n",
            "|        6|     17|Book_17|    Fantasy|47.57|  2012-12-31| Author_6|1985-12-31|      USA|\n",
            "|        1|     18|Book_18|Non-Fiction|43.92|  2014-12-31| Author_1|1960-12-31|    India|\n",
            "|        5|     19|Book_19|    Science|88.83|  2016-12-31| Author_5|1980-12-31|      USA|\n",
            "|        7|     20|Book_20|    Mystery|91.48|  2018-12-31| Author_7|1990-12-31|      USA|\n",
            "+---------+-------+-------+-----------+-----+------------+---------+----------+---------+\n",
            "\n",
            "+---------+--------+------------------+\n",
            "|author_id|    name|             total|\n",
            "+---------+--------+------------------+\n",
            "|        2|Author_2| 231.9700050354004|\n",
            "|        7|Author_7|132.66000270843506|\n",
            "|        1|Author_1| 111.8599967956543|\n",
            "|        8|Author_8|107.15999984741211|\n",
            "|        5|Author_5| 88.83000183105469|\n",
            "+---------+--------+------------------+\n",
            "only showing top 5 rows\n",
            "\n",
            "+-----------+-----+\n",
            "|     genres|count|\n",
            "+-----------+-----+\n",
            "|Non-Fiction|    9|\n",
            "|    Science|    3|\n",
            "|    Fiction|    3|\n",
            "|    Fantasy|    3|\n",
            "|    Mystery|    2|\n",
            "+-----------+-----+\n",
            "\n",
            "+---------+---------+------------------+\n",
            "|author_id|     name|        avg(price)|\n",
            "+---------+---------+------------------+\n",
            "|        5| Author_5| 88.83000183105469|\n",
            "|        4| Author_4| 83.69999694824219|\n",
            "|        2| Author_2|  57.9925012588501|\n",
            "|        9| Author_9|46.310001373291016|\n",
            "|        7| Author_7|44.220000902811684|\n",
            "|        6| Author_6| 43.96500015258789|\n",
            "|        1| Author_1| 37.28666559855143|\n",
            "|        8| Author_8| 35.71999994913737|\n",
            "|       10|Author_10|21.165000438690186|\n",
            "+---------+---------+------------------+\n",
            "\n",
            "+---------+-------+-------+-----------+-----+------------+---------+----------+---------+\n",
            "|author_id|book_id|  title|     genres|price|publish_date|     name|birth_date|  country|\n",
            "+---------+-------+-------+-----------+-----+------------+---------+----------+---------+\n",
            "|        7|     20|Book_20|    Mystery|91.48|  2018-12-31| Author_7|1990-12-31|      USA|\n",
            "|        5|     19|Book_19|    Science|88.83|  2016-12-31| Author_5|1980-12-31|      USA|\n",
            "|        8|     15|Book_15|    Fantasy| 60.0|  2008-12-31| Author_8|1995-12-31|Australia|\n",
            "|        6|     17|Book_17|    Fantasy|47.57|  2012-12-31| Author_6|1985-12-31|      USA|\n",
            "|        1|     18|Book_18|Non-Fiction|43.92|  2014-12-31| Author_1|1960-12-31|    India|\n",
            "|        2|     16|Book_16|    Fiction|36.22|  2010-12-31| Author_2|1965-12-31|   Canada|\n",
            "|       10|     11|Book_11|Non-Fiction| 31.7|  2000-12-31|Author_10|2005-12-31|    India|\n",
            "|        8|     12|Book_12|Non-Fiction|31.02|  2002-12-31| Author_8|1995-12-31|Australia|\n",
            "|        1|     14|Book_14|    Fiction|26.84|  2006-12-31| Author_1|1960-12-31|    India|\n",
            "|        8|     13|Book_13|Non-Fiction|16.14|  2004-12-31| Author_8|1995-12-31|Australia|\n",
            "+---------+-------+-------+-----------+-----+------------+---------+----------+---------+\n",
            "\n"
          ]
        }
      ]
    }
  ]
}