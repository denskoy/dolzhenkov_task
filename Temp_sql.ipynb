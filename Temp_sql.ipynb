{
  "nbformat": 4,
  "nbformat_minor": 0,
  "metadata": {
    "colab": {
      "provenance": [],
      "authorship_tag": "ABX9TyMSxL+hkB3askpBhXu4jLJr",
      "include_colab_link": true
    },
    "kernelspec": {
      "name": "python3",
      "display_name": "Python 3"
    },
    "language_info": {
      "name": "python"
    }
  },
  "cells": [
    {
      "cell_type": "markdown",
      "metadata": {
        "id": "view-in-github",
        "colab_type": "text"
      },
      "source": [
        "<a href=\"https://colab.research.google.com/github/denskoy/dolzhenkov_task/blob/main/Temp_sql.ipynb\" target=\"_parent\"><img src=\"https://colab.research.google.com/assets/colab-badge.svg\" alt=\"Open In Colab\"/></a>"
      ]
    },
    {
      "cell_type": "code",
      "execution_count": 7,
      "metadata": {
        "colab": {
          "base_uri": "https://localhost:8080/"
        },
        "id": "n_gIliD2dTg1",
        "outputId": "9e1aa09c-a280-4e9d-a901-4a884c9b1722"
      },
      "outputs": [
        {
          "output_type": "stream",
          "name": "stdout",
          "text": [
            "Requirement already satisfied: pyspark in /usr/local/lib/python3.10/dist-packages (3.5.2)\n",
            "Requirement already satisfied: py4j==0.10.9.7 in /usr/local/lib/python3.10/dist-packages (from pyspark) (0.10.9.7)\n"
          ]
        }
      ],
      "source": [
        "pip install pyspark"
      ]
    },
    {
      "cell_type": "code",
      "source": [
        "from os import sep\n",
        "from pyspark.sql import SparkSession\n",
        "spark = SparkSession.builder \\\n",
        "        .appName(\"films_actors\") \\\n",
        "        .getOrCreate()\n",
        "df_movies= spark.read.csv(\"/content/movies.csv\", header = True, sep = \",\")\n",
        "df_actors= spark.read.csv(\"/content/actors.csv\", header = True, sep = \",\")\n",
        "df_movie_actors= spark.read.csv(\"/content/movie_actors.csv\", header = True, sep = \",\")\n",
        "df_movies.createOrReplaceTempView(\"movies\")\n",
        "df_actors.createOrReplaceTempView(\"actors\")\n",
        "df_movie_actors.createOrReplaceTempView(\"movie_actors\")\n",
        "# Топ-5 жанров по количеству фильмов\n",
        "df_top_genre = spark.sql(\"\"\"\n",
        "SELECT genre, COUNT(movie_id) AS num_movies\n",
        "FROM movies\n",
        "GROUP BY genre\n",
        "ORDER BY COUNT(movie_id) DESC\n",
        "\"\"\")\n",
        "df_top_genre.show()\n",
        "# Актер с наибольшим количеством фильмов\n",
        "top_actor = spark.sql(\"\"\"\n",
        "SELECT a.name, COUNT(*) as num_movies\n",
        "from actors a\n",
        "JOIN movie_actors ma on a.actor_id = ma.actor_id\n",
        "GROUP BY a.name\n",
        "ORDER BY num_movies DESC\n",
        "limit 1\n",
        "\"\"\")\n",
        "top_actor.show()\n",
        "# Средний бюджет фильмов по жанрам\n",
        "avg_budget = spark.sql(\"\"\"\n",
        "SELECT genre, avg(budget)\n",
        "FROM movies\n",
        "GROUP BY genre\n",
        "\"\"\")\n",
        "avg_budget.show()\n",
        "# Фильмы с более чем одним актером из одной страны\n",
        "movies_with_multiple_actors_same_country = spark.sql(\"\"\"\n",
        "SELECT m.title, a.country, COUNT(*) as num_actors\n",
        "FROM movies m\n",
        "JOIN movie_actors ma ON m.movie_id = ma.movie_id\n",
        "JOIN actors a ON ma.actor_id = a.actor_id\n",
        "GROUP BY m.title, a.country\n",
        "HAVING num_actors > 1\n",
        "\"\"\")\n",
        "\n",
        "movies_with_multiple_actors_same_country.show()"
      ],
      "metadata": {
        "colab": {
          "base_uri": "https://localhost:8080/"
        },
        "id": "hwn1xtmceeV_",
        "outputId": "76051f39-04c5-42f5-95fa-884435602150"
      },
      "execution_count": 15,
      "outputs": [
        {
          "output_type": "stream",
          "name": "stdout",
          "text": [
            "+------+----------+\n",
            "| genre|num_movies|\n",
            "+------+----------+\n",
            "| Drama|         6|\n",
            "|Action|         6|\n",
            "|Comedy|         4|\n",
            "|Horror|         2|\n",
            "|Sci-Fi|         2|\n",
            "+------+----------+\n",
            "\n",
            "+--------+----------+\n",
            "|    name|num_movies|\n",
            "+--------+----------+\n",
            "|Actor_17|         5|\n",
            "+--------+----------+\n",
            "\n",
            "+------+--------------------+\n",
            "| genre|         avg(budget)|\n",
            "+------+--------------------+\n",
            "| Drama| 6.076021856166667E7|\n",
            "|Horror|      8.7281876775E7|\n",
            "|Comedy|     5.20709662225E7|\n",
            "|Action|2.7492742561666667E7|\n",
            "|Sci-Fi|       7.809715175E7|\n",
            "+------+--------------------+\n",
            "\n",
            "+--------+---------+----------+\n",
            "|   title|  country|num_actors|\n",
            "+--------+---------+----------+\n",
            "| Movie_7|    India|         2|\n",
            "| Movie_3|      USA|         2|\n",
            "|Movie_10|       UK|         2|\n",
            "|Movie_15|    India|         2|\n",
            "|Movie_18|Australia|         2|\n",
            "| Movie_1|    India|         3|\n",
            "| Movie_2|      USA|         2|\n",
            "| Movie_7|      USA|         2|\n",
            "|Movie_10|      USA|         2|\n",
            "+--------+---------+----------+\n",
            "\n"
          ]
        }
      ]
    }
  ]
}