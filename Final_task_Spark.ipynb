{
  "nbformat": 4,
  "nbformat_minor": 0,
  "metadata": {
    "colab": {
      "provenance": [],
      "authorship_tag": "ABX9TyOmDZHw/IvUaHj+Si5no/3W",
      "include_colab_link": true
    },
    "kernelspec": {
      "name": "python3",
      "display_name": "Python 3"
    },
    "language_info": {
      "name": "python"
    }
  },
  "cells": [
    {
      "cell_type": "markdown",
      "metadata": {
        "id": "view-in-github",
        "colab_type": "text"
      },
      "source": [
        "<a href=\"https://colab.research.google.com/github/denskoy/dolzhenkov_task/blob/main/Final_task_Spark.ipynb\" target=\"_parent\"><img src=\"https://colab.research.google.com/assets/colab-badge.svg\" alt=\"Open In Colab\"/></a>"
      ]
    },
    {
      "cell_type": "code",
      "source": [
        "pip install pyspark"
      ],
      "metadata": {
        "colab": {
          "base_uri": "https://localhost:8080/"
        },
        "id": "A9ued2Qbxqwh",
        "outputId": "36dff606-8f19-44cd-b58f-ce7e9907d4ca"
      },
      "execution_count": null,
      "outputs": [
        {
          "output_type": "stream",
          "name": "stdout",
          "text": [
            "Collecting pyspark\n",
            "  Downloading pyspark-3.5.2.tar.gz (317.3 MB)\n",
            "\u001b[2K     \u001b[90m━━━━━━━━━━━━━━━━━━━━━━━━━━━━━━━━━━━━━━━━\u001b[0m \u001b[32m317.3/317.3 MB\u001b[0m \u001b[31m4.5 MB/s\u001b[0m eta \u001b[36m0:00:00\u001b[0m\n",
            "\u001b[?25h  Preparing metadata (setup.py) ... \u001b[?25l\u001b[?25hdone\n",
            "Requirement already satisfied: py4j==0.10.9.7 in /usr/local/lib/python3.10/dist-packages (from pyspark) (0.10.9.7)\n",
            "Building wheels for collected packages: pyspark\n",
            "  Building wheel for pyspark (setup.py) ... \u001b[?25l\u001b[?25hdone\n",
            "  Created wheel for pyspark: filename=pyspark-3.5.2-py2.py3-none-any.whl size=317812365 sha256=b79c31c0edafa5c6e02d4a86f3a97bdf671d9f2475e38360df40993036833847\n",
            "  Stored in directory: /root/.cache/pip/wheels/34/34/bd/03944534c44b677cd5859f248090daa9fb27b3c8f8e5f49574\n",
            "Successfully built pyspark\n",
            "Installing collected packages: pyspark\n",
            "Successfully installed pyspark-3.5.2\n"
          ]
        }
      ]
    },
    {
      "cell_type": "code",
      "source": [
        "from os import sep\n",
        "from pyspark.sql import SparkSession\n",
        "from pyspark.sql.types import StructType, StructField, StringType, DateType, FloatType, IntegerType, TimestampType\n",
        "from pyspark.sql.functions import desc, asc, month, count, to_date, sum\n",
        "spark = SparkSession.builder \\\n",
        "        .appName(\"films_actors\") \\\n",
        "        .getOrCreate()\n",
        "schema = StructType([\n",
        "    StructField(\"ip\", StringType(), True),\n",
        "    StructField(\"timestamp\", TimestampType(), True),\n",
        "    StructField(\"method\", StringType(), True),\n",
        "    StructField(\"url\", StringType(), True),\n",
        "    StructField(\"response_code\", StringType(), True),\n",
        "    StructField(\"response_size\", IntegerType(), True)\n",
        "])\n",
        "df = spark.read.csv(\"/content/web_server_logs.csv\", header=True, schema=schema, sep=\",\")\n",
        "#Группировка данных по IP и подсчет количества запросов для каждого IP\n",
        "ip_df = df.groupBy(\"ip\").agg(count(\"*\").alias(\"request_count\")).orderBy(desc(\"request_count\")).limit(10)\n",
        "print(\"Top 10 active IP addresses:\")\n",
        "ip_df.show()\n",
        "#Группировка данны по HTTP-методу и подсчет количества запросов для каждого метода\n",
        "method_df = df.groupBy(\"method\").agg(count(\"*\").alias(\"method_count\")).orderBy(desc(\"method_count\"))\n",
        "print(\"Request count by HTTP method:\")\n",
        "method_df.show()\n",
        "#Фильтрация и подсчет количества запросов с кодом ответа 404.\n",
        "code_df = df.filter(df.response_code == \"404\").agg(count(\"*\"))\n",
        "print(\"Number of 404 response codes:\" + str(code_df.collect()[0][0]))\n",
        "#Группировка данных по дате и суммирование размера ответов.\n",
        "date_df = df.groupBy(to_date(\"timestamp\")).agg(sum(\"response_size\")).orderBy(to_date(\"timestamp\"))\n",
        "print(\"Total response size by day:\")\n",
        "date_df.show()\n",
        "spark.stop"
      ],
      "metadata": {
        "colab": {
          "base_uri": "https://localhost:8080/",
          "height": 1000
        },
        "id": "schovq4wyPkt",
        "outputId": "0b654d91-5358-4820-f7e7-9b0b6495ec7b"
      },
      "execution_count": 70,
      "outputs": [
        {
          "output_type": "stream",
          "name": "stdout",
          "text": [
            "Top 10 active IP addresses:\n",
            "+---------------+-------------+\n",
            "|             ip|request_count|\n",
            "+---------------+-------------+\n",
            "|  2.230.127.126|            2|\n",
            "| 65.179.201.149|            1|\n",
            "|  195.192.23.43|            1|\n",
            "|121.173.134.203|            1|\n",
            "|   8.19.141.136|            1|\n",
            "|    8.149.14.73|            1|\n",
            "|     72.20.3.30|            1|\n",
            "|   41.166.44.36|            1|\n",
            "|   15.79.23.143|            1|\n",
            "|  84.28.120.239|            1|\n",
            "+---------------+-------------+\n",
            "\n",
            "Request count by HTTP method:\n",
            "+------+------------+\n",
            "|method|method_count|\n",
            "+------+------------+\n",
            "|  POST|       25214|\n",
            "|   GET|       25049|\n",
            "|DELETE|       24982|\n",
            "|   PUT|       24755|\n",
            "+------+------------+\n",
            "\n",
            "Number of 404 response codes:25053\n",
            "Total response size by day:\n",
            "+------------------+------------------+\n",
            "|to_date(timestamp)|sum(response_size)|\n",
            "+------------------+------------------+\n",
            "|        2024-01-01|           2059165|\n",
            "|        2024-01-02|           2025262|\n",
            "|        2024-01-03|           1906083|\n",
            "|        2024-01-04|           1815860|\n",
            "|        2024-01-05|           2120496|\n",
            "|        2024-01-06|           1802161|\n",
            "|        2024-01-07|           1850544|\n",
            "|        2024-01-08|           2003239|\n",
            "|        2024-01-09|           1936757|\n",
            "|        2024-01-10|           1962023|\n",
            "|        2024-01-11|           1987144|\n",
            "|        2024-01-12|           2094247|\n",
            "|        2024-01-13|           2056463|\n",
            "|        2024-01-14|           2115102|\n",
            "|        2024-01-15|           1988068|\n",
            "|        2024-01-16|           1939168|\n",
            "|        2024-01-17|           1912262|\n",
            "|        2024-01-18|           1941163|\n",
            "|        2024-01-19|           1990932|\n",
            "|        2024-01-20|           1968275|\n",
            "+------------------+------------------+\n",
            "only showing top 20 rows\n",
            "\n"
          ]
        },
        {
          "output_type": "execute_result",
          "data": {
            "text/plain": [
              "<bound method SparkSession.stop of <pyspark.sql.session.SparkSession object at 0x78649449f640>>"
            ],
            "text/html": [
              "<div style=\"max-width:800px; border: 1px solid var(--colab-border-color);\"><style>\n",
              "      pre.function-repr-contents {\n",
              "        overflow-x: auto;\n",
              "        padding: 8px 12px;\n",
              "        max-height: 500px;\n",
              "      }\n",
              "\n",
              "      pre.function-repr-contents.function-repr-contents-collapsed {\n",
              "        cursor: pointer;\n",
              "        max-height: 100px;\n",
              "      }\n",
              "    </style>\n",
              "    <pre style=\"white-space: initial; background:\n",
              "         var(--colab-secondary-surface-color); padding: 8px 12px;\n",
              "         border-bottom: 1px solid var(--colab-border-color);\"><b>pyspark.sql.session.SparkSession.stop</b><br/>def stop() -&gt; None</pre><pre class=\"function-repr-contents function-repr-contents-collapsed\" style=\"\"><a class=\"filepath\" style=\"display:none\" href=\"#\">/usr/local/lib/python3.10/dist-packages/pyspark/sql/session.py</a>Stop the underlying :class:`SparkContext`.\n",
              "\n",
              ".. versionadded:: 2.0.0\n",
              "\n",
              ".. versionchanged:: 3.4.0\n",
              "    Supports Spark Connect.\n",
              "\n",
              "Examples\n",
              "--------\n",
              "&gt;&gt;&gt; spark.stop()  # doctest: +SKIP</pre>\n",
              "      <script>\n",
              "      if (google.colab.kernel.accessAllowed && google.colab.files && google.colab.files.view) {\n",
              "        for (const element of document.querySelectorAll('.filepath')) {\n",
              "          element.style.display = 'block'\n",
              "          element.onclick = (event) => {\n",
              "            event.preventDefault();\n",
              "            event.stopPropagation();\n",
              "            google.colab.files.view(element.textContent, 1781);\n",
              "          };\n",
              "        }\n",
              "      }\n",
              "      for (const element of document.querySelectorAll('.function-repr-contents')) {\n",
              "        element.onclick = (event) => {\n",
              "          event.preventDefault();\n",
              "          event.stopPropagation();\n",
              "          element.classList.toggle('function-repr-contents-collapsed');\n",
              "        };\n",
              "      }\n",
              "      </script>\n",
              "      </div>"
            ]
          },
          "metadata": {},
          "execution_count": 70
        }
      ]
    }
  ]
}