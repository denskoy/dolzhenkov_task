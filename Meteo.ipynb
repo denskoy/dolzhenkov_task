{
  "nbformat": 4,
  "nbformat_minor": 0,
  "metadata": {
    "colab": {
      "provenance": [],
      "authorship_tag": "ABX9TyM6/v4w7i7BG70xW9osDFkO",
      "include_colab_link": true
    },
    "kernelspec": {
      "name": "python3",
      "display_name": "Python 3"
    },
    "language_info": {
      "name": "python"
    }
  },
  "cells": [
    {
      "cell_type": "markdown",
      "metadata": {
        "id": "view-in-github",
        "colab_type": "text"
      },
      "source": [
        "<a href=\"https://colab.research.google.com/github/denskoy/dolzhenkov_task/blob/main/Meteo.ipynb\" target=\"_parent\"><img src=\"https://colab.research.google.com/assets/colab-badge.svg\" alt=\"Open In Colab\"/></a>"
      ]
    },
    {
      "cell_type": "code",
      "execution_count": 2,
      "metadata": {
        "colab": {
          "base_uri": "https://localhost:8080/"
        },
        "id": "xFSNyKKSt5QR",
        "outputId": "2a642d4a-3371-4ed7-b1e4-f403864548c0"
      },
      "outputs": [
        {
          "output_type": "stream",
          "name": "stdout",
          "text": [
            "Requirement already satisfied: pyspark in /usr/local/lib/python3.10/dist-packages (3.5.2)\n",
            "Requirement already satisfied: py4j==0.10.9.7 in /usr/local/lib/python3.10/dist-packages (from pyspark) (0.10.9.7)\n"
          ]
        }
      ],
      "source": [
        "pip install pyspark"
      ]
    },
    {
      "cell_type": "code",
      "source": [
        "from pyspark.sql import SparkSession\n",
        "from pyspark.sql.types import StructType, StructField, StringType, DateType, FloatType\n",
        "from pyspark.sql.functions import desc, asc, month\n",
        "\n",
        "spark = SparkSession.builder \\\n",
        "        .appName(\"meteo\") \\\n",
        "        .getOrCreate()\n",
        "\n",
        "schema = StructType([\n",
        "    StructField(\"station_id\", StringType(), True),\n",
        "    StructField(\"date\", DateType(), True),\n",
        "    StructField(\"temperature\", FloatType(), True),\n",
        "    StructField(\"precipitation\", FloatType(), True),\n",
        "    StructField(\"wind_speed\", FloatType(), True)\n",
        "])\n",
        "df = spark.read.csv(\"/content/weather_data.csv\", header=True, schema=schema, sep=\",\")\n",
        "df.printSchema()\n",
        "#Найдите топ-5 самых жарких дней за все время наблюдений.\n",
        "temp_days = df.orderBy(df.temperature.desc())\n",
        "temp_days.select(\"date\", \"temperature\").limit(5).show()\n",
        "#Найдите метеостанцию с наибольшим количеством осадков за последний год.\n",
        "prec_station = df.where(\"date >= '2023-01-01' and date <= '2023-12-31'\").groupBy(\"station_id\").agg({\"precipitation\": \"sum\"})\n",
        "max_prec = prec_station.orderBy(desc(\"sum(precipitation)\")).limit(1).show()\n",
        "# Средняя температура по месяцам\n",
        "month_avg = df.withColumn(\"month\", month(\"date\")).groupBy(\"month\").avg(\"temperature\").orderBy(\"month\")\n",
        "month_avg.show()\n",
        "spark.stop"
      ],
      "metadata": {
        "colab": {
          "base_uri": "https://localhost:8080/",
          "height": 881
        },
        "id": "G2r0TF9IuNLH",
        "outputId": "2e2cb88b-bb1e-417f-824d-10b7eda201e6"
      },
      "execution_count": 26,
      "outputs": [
        {
          "output_type": "stream",
          "name": "stdout",
          "text": [
            "root\n",
            " |-- station_id: string (nullable = true)\n",
            " |-- date: date (nullable = true)\n",
            " |-- temperature: float (nullable = true)\n",
            " |-- precipitation: float (nullable = true)\n",
            " |-- wind_speed: float (nullable = true)\n",
            "\n",
            "+----------+-----------+\n",
            "|      date|temperature|\n",
            "+----------+-----------+\n",
            "|2021-08-20|   39.98283|\n",
            "|2023-12-02|  39.967976|\n",
            "|2022-03-28|  39.824688|\n",
            "|2019-02-11|  39.767376|\n",
            "|2020-06-10|   39.69148|\n",
            "+----------+-----------+\n",
            "\n",
            "+----------+------------------+\n",
            "|station_id|sum(precipitation)|\n",
            "+----------+------------------+\n",
            "| station_5| 642.9302670955658|\n",
            "+----------+------------------+\n",
            "\n",
            "+-----+------------------+\n",
            "|month|  avg(temperature)|\n",
            "+-----+------------------+\n",
            "|    1|11.356518470007797|\n",
            "|    2|  9.06722993850708|\n",
            "|    3| 7.244080115937525|\n",
            "|    4|12.024529053670603|\n",
            "|    5| 9.902883278588726|\n",
            "|    6|13.421092370936744|\n",
            "|    7| 6.185718382110021|\n",
            "|    8|10.967800280712183|\n",
            "|    9| 9.596744181906304|\n",
            "|   10| 9.098843419781097|\n",
            "|   11| 7.265890174138714|\n",
            "|   12|11.218592057529005|\n",
            "+-----+------------------+\n",
            "\n"
          ]
        },
        {
          "output_type": "execute_result",
          "data": {
            "text/plain": [
              "<bound method SparkSession.stop of <pyspark.sql.session.SparkSession object at 0x791d91cdded0>>"
            ],
            "text/html": [
              "<div style=\"max-width:800px; border: 1px solid var(--colab-border-color);\"><style>\n",
              "      pre.function-repr-contents {\n",
              "        overflow-x: auto;\n",
              "        padding: 8px 12px;\n",
              "        max-height: 500px;\n",
              "      }\n",
              "\n",
              "      pre.function-repr-contents.function-repr-contents-collapsed {\n",
              "        cursor: pointer;\n",
              "        max-height: 100px;\n",
              "      }\n",
              "    </style>\n",
              "    <pre style=\"white-space: initial; background:\n",
              "         var(--colab-secondary-surface-color); padding: 8px 12px;\n",
              "         border-bottom: 1px solid var(--colab-border-color);\"><b>pyspark.sql.session.SparkSession.stop</b><br/>def stop() -&gt; None</pre><pre class=\"function-repr-contents function-repr-contents-collapsed\" style=\"\"><a class=\"filepath\" style=\"display:none\" href=\"#\">/usr/local/lib/python3.10/dist-packages/pyspark/sql/session.py</a>Stop the underlying :class:`SparkContext`.\n",
              "\n",
              ".. versionadded:: 2.0.0\n",
              "\n",
              ".. versionchanged:: 3.4.0\n",
              "    Supports Spark Connect.\n",
              "\n",
              "Examples\n",
              "--------\n",
              "&gt;&gt;&gt; spark.stop()  # doctest: +SKIP</pre>\n",
              "      <script>\n",
              "      if (google.colab.kernel.accessAllowed && google.colab.files && google.colab.files.view) {\n",
              "        for (const element of document.querySelectorAll('.filepath')) {\n",
              "          element.style.display = 'block'\n",
              "          element.onclick = (event) => {\n",
              "            event.preventDefault();\n",
              "            event.stopPropagation();\n",
              "            google.colab.files.view(element.textContent, 1781);\n",
              "          };\n",
              "        }\n",
              "      }\n",
              "      for (const element of document.querySelectorAll('.function-repr-contents')) {\n",
              "        element.onclick = (event) => {\n",
              "          event.preventDefault();\n",
              "          event.stopPropagation();\n",
              "          element.classList.toggle('function-repr-contents-collapsed');\n",
              "        };\n",
              "      }\n",
              "      </script>\n",
              "      </div>"
            ]
          },
          "metadata": {},
          "execution_count": 26
        }
      ]
    }
  ]
}